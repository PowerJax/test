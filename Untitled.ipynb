{
 "cells": [
  {
   "cell_type": "code",
   "execution_count": 1,
   "metadata": {},
   "outputs": [],
   "source": [
    "from __future__ import absolute_import, division, print_function, unicode_literals\n",
    "import tensorflow as tf\n",
    "from tensorflow.keras.models import Sequential\n",
    "from tensorflow.keras.layers import Dense, Conv2D, Flatten, Dropout, MaxPooling2D\n",
    "from tensorflow.keras.preprocessing.image import ImageDataGenerator\n",
    "\n",
    "import os\n",
    "import numpy as np\n",
    "import matplotlib.pyplot as plt\n",
    "\n",
    "PATH = os.path.join(\"C:/Users/Stijn/Documents/pws tensorflow/data\")\n",
    "\n",
    "train_dir = os.path.join(PATH, 'training')\n",
    "validation_dir = os.path.join(PATH, 'testing')\n",
    "\n",
    "train_red_dir = os.path.join(train_dir, 'red')  # directory with our training red pictures\n",
    "train_yellow_dir = os.path.join(train_dir, 'yellow')  # directory with our training yellow pictures\n",
    "train_green_dir = os.path.join(train_dir, 'green')  # directory with our training green pictures\n",
    "train_unknown_dir = os.path.join(train_dir, 'unknown')  # directory with our training unknown pictures\n",
    "\n",
    "validation_red_dir = os.path.join(validation_dir, 'red')  # directory with our validation red pictures\n",
    "validation_yellow_dir = os.path.join(validation_dir, 'yellow')  # directory with our validation yellow pictures\n",
    "validation_green_dir = os.path.join(validation_dir, 'green')  # directory with our validation green pictures\n",
    "validation_unknown_dir = os.path.join(validation_dir, 'unknown')  # directory with our validation unknown pictures"
   ]
  },
  {
   "cell_type": "code",
   "execution_count": 2,
   "metadata": {},
   "outputs": [
    {
     "name": "stdout",
     "output_type": "stream",
     "text": [
      "total training red images: 1386\n",
      "total training yellow images: 202\n",
      "total training green images: 516\n",
      "total training unknown images: 1494\n",
      "--\n",
      "total validation red images: 347\n",
      "total validation yellow images: 51\n",
      "total validation green images: 129\n",
      "total validation unknown images: 374\n",
      "--\n",
      "Total training images: 3598\n",
      "Total validation images: 901\n"
     ]
    }
   ],
   "source": [
    "#understanding data\n",
    "\n",
    "num_red_tr = len(os.listdir(train_red_dir))\n",
    "num_yellow_tr = len(os.listdir(train_yellow_dir))\n",
    "num_green_tr = len(os.listdir(train_green_dir))\n",
    "num_unknown_tr = len(os.listdir(train_unknown_dir))\n",
    "\n",
    "num_red_val = len(os.listdir(validation_red_dir))\n",
    "num_yellow_val = len(os.listdir(validation_yellow_dir))\n",
    "num_green_val = len(os.listdir(validation_green_dir))\n",
    "num_unknown_val = len(os.listdir(validation_unknown_dir))\n",
    "\n",
    "total_train = num_red_tr + num_yellow_tr + num_green_tr + num_unknown_tr\n",
    "total_val = num_red_val + num_yellow_val + num_green_val + num_unknown_val\n",
    "\n",
    "\n",
    "print('total training red images:', num_red_tr)\n",
    "print('total training yellow images:', num_yellow_tr)\n",
    "print('total training green images:', num_green_tr)\n",
    "print('total training unknown images:', num_unknown_tr)\n",
    "\n",
    "print('--') #improves readability\n",
    "\n",
    "print('total validation red images:', num_red_val)\n",
    "print('total validation yellow images:', num_yellow_val)\n",
    "print('total validation green images:', num_green_val)\n",
    "print('total validation unknown images:', num_unknown_val)\n",
    "\n",
    "print('--') #improves readability\n",
    "\n",
    "print(\"Total training images:\", total_train)\n",
    "print(\"Total validation images:\", total_val)\n"
   ]
  },
  {
   "cell_type": "code",
   "execution_count": 3,
   "metadata": {},
   "outputs": [
    {
     "name": "stdout",
     "output_type": "stream",
     "text": [
      "variables loaded\n"
     ]
    }
   ],
   "source": [
    "batch_size = 128\n",
    "epochs = 15\n",
    "IMG_HEIGHT = 150\n",
    "IMG_WIDTH = 150\n",
    "print('variables loaded')"
   ]
  },
  {
   "cell_type": "code",
   "execution_count": 4,
   "metadata": {},
   "outputs": [
    {
     "name": "stdout",
     "output_type": "stream",
     "text": [
      "Found 3598 images belonging to 4 classes.\n",
      "Found 901 images belonging to 4 classes.\n"
     ]
    }
   ],
   "source": [
    "train_image_generator = ImageDataGenerator(rescale=1./255) # Generator for our training data\n",
    "validation_image_generator = ImageDataGenerator(rescale=1./255) # Generator for our validation data\n",
    "\n",
    "train_data_gen = train_image_generator.flow_from_directory(batch_size=batch_size,\n",
    "                                                           directory=train_dir,\n",
    "                                                           shuffle=True,\n",
    "                                                           target_size=(IMG_HEIGHT, IMG_WIDTH),\n",
    "                                                           class_mode='binary')\n",
    "\n",
    "val_data_gen = validation_image_generator.flow_from_directory(batch_size=batch_size,\n",
    "                                                              directory=validation_dir,\n",
    "                                                              target_size=(IMG_HEIGHT, IMG_WIDTH),\n",
    "                                                              class_mode='binary')"
   ]
  },
  {
   "cell_type": "code",
   "execution_count": 5,
   "metadata": {},
   "outputs": [],
   "source": [
    "sample_training_images, _ = next(train_data_gen)\n",
    "\n",
    "# This function will plot images in the form of a grid with 1 row and 5 columns where images are placed in each column.\n",
    "def plotImages(images_arr):\n",
    "    fig, axes = plt.subplots(1, 5, figsize=(20,20))\n",
    "    axes = axes.flatten()\n",
    "    for img, ax in zip( images_arr, axes):\n",
    "        ax.imshow(img)\n",
    "        ax.axis('off')\n",
    "    plt.tight_layout()\n",
    "    plt.show()\n",
    "    \n",
    "    plotImages(sample_training_images[:5])\n",
    "    "
   ]
  },
  {
   "cell_type": "code",
   "execution_count": 6,
   "metadata": {},
   "outputs": [
    {
     "name": "stdout",
     "output_type": "stream",
     "text": [
      "WARNING:tensorflow:From C:\\Users\\Stijn\\Anaconda3\\envs\\tensorflow-gpu\\lib\\site-packages\\tensorflow\\python\\ops\\init_ops.py:1251: calling VarianceScaling.__init__ (from tensorflow.python.ops.init_ops) with dtype is deprecated and will be removed in a future version.\n",
      "Instructions for updating:\n",
      "Call initializer instance with the dtype argument instead of passing it to the constructor\n"
     ]
    }
   ],
   "source": [
    "model = Sequential([\n",
    "    Conv2D(16, 3, padding='same', activation='relu', input_shape=(IMG_HEIGHT, IMG_WIDTH ,3)),\n",
    "    MaxPooling2D(),\n",
    "    Conv2D(32, 3, padding='same', activation='relu'),\n",
    "    MaxPooling2D(),\n",
    "    Conv2D(64, 3, padding='same', activation='relu'),\n",
    "    MaxPooling2D(),\n",
    "    Flatten(),\n",
    "    Dense(512, activation='relu'),\n",
    "    Dense(1, activation='sigmoid')\n",
    "])"
   ]
  },
  {
   "cell_type": "code",
   "execution_count": 7,
   "metadata": {},
   "outputs": [
    {
     "name": "stdout",
     "output_type": "stream",
     "text": [
      "WARNING:tensorflow:From C:\\Users\\Stijn\\Anaconda3\\envs\\tensorflow-gpu\\lib\\site-packages\\tensorflow\\python\\ops\\nn_impl.py:180: add_dispatch_support.<locals>.wrapper (from tensorflow.python.ops.array_ops) is deprecated and will be removed in a future version.\n",
      "Instructions for updating:\n",
      "Use tf.where in 2.0, which has the same broadcast rule as np.where\n"
     ]
    }
   ],
   "source": [
    "model.compile(optimizer='adam',\n",
    "              loss='binary_crossentropy',\n",
    "              metrics=['accuracy'])"
   ]
  },
  {
   "cell_type": "code",
   "execution_count": 8,
   "metadata": {},
   "outputs": [
    {
     "name": "stdout",
     "output_type": "stream",
     "text": [
      "Model: \"sequential\"\n",
      "_________________________________________________________________\n",
      "Layer (type)                 Output Shape              Param #   \n",
      "=================================================================\n",
      "conv2d (Conv2D)              (None, 150, 150, 16)      448       \n",
      "_________________________________________________________________\n",
      "max_pooling2d (MaxPooling2D) (None, 75, 75, 16)        0         \n",
      "_________________________________________________________________\n",
      "conv2d_1 (Conv2D)            (None, 75, 75, 32)        4640      \n",
      "_________________________________________________________________\n",
      "max_pooling2d_1 (MaxPooling2 (None, 37, 37, 32)        0         \n",
      "_________________________________________________________________\n",
      "conv2d_2 (Conv2D)            (None, 37, 37, 64)        18496     \n",
      "_________________________________________________________________\n",
      "max_pooling2d_2 (MaxPooling2 (None, 18, 18, 64)        0         \n",
      "_________________________________________________________________\n",
      "flatten (Flatten)            (None, 20736)             0         \n",
      "_________________________________________________________________\n",
      "dense (Dense)                (None, 512)               10617344  \n",
      "_________________________________________________________________\n",
      "dense_1 (Dense)              (None, 1)                 513       \n",
      "=================================================================\n",
      "Total params: 10,641,441\n",
      "Trainable params: 10,641,441\n",
      "Non-trainable params: 0\n",
      "_________________________________________________________________\n"
     ]
    }
   ],
   "source": [
    "model.summary()\n"
   ]
  },
  {
   "cell_type": "code",
   "execution_count": 9,
   "metadata": {},
   "outputs": [
    {
     "name": "stdout",
     "output_type": "stream",
     "text": [
      "Epoch 1/15\n",
      "28/28 [==============================] - 14s 500ms/step - loss: -4875.6431 - acc: 0.3844 - val_loss: -28708.2905 - val_acc: 0.3862\n",
      "Epoch 2/15\n",
      "28/28 [==============================] - 11s 395ms/step - loss: -503140.6698 - acc: 0.3873 - val_loss: -1784463.0357 - val_acc: 0.3862\n",
      "Epoch 3/15\n",
      "28/28 [==============================] - 11s 400ms/step - loss: -11753690.7565 - acc: 0.3816 - val_loss: -27017487.7143 - val_acc: 0.3862\n",
      "Epoch 4/15\n",
      "28/28 [==============================] - 11s 375ms/step - loss: -91635455.8042 - acc: 0.3931 - val_loss: -184937606.8571 - val_acc: 0.3862\n",
      "Epoch 5/15\n",
      "28/28 [==============================] - 10s 344ms/step - loss: -478140142.1381 - acc: 0.3801 - val_loss: -825497216.0000 - val_acc: 0.3862\n",
      "Epoch 6/15\n",
      "28/28 [==============================] - 10s 372ms/step - loss: -1793446488.4120 - acc: 0.3836 - val_loss: -2746165120.0000 - val_acc: 0.3862\n",
      "Epoch 7/15\n",
      "28/28 [==============================] - 12s 418ms/step - loss: -5431960557.7143 - acc: 0.3811 - val_loss: -7495418441.1429 - val_acc: 0.3862\n",
      "Epoch 8/15\n",
      "28/28 [==============================] - 12s 443ms/step - loss: -12379869463.7261 - acc: 0.3892 - val_loss: -17457058669.7143 - val_acc: 0.3862\n",
      "Epoch 9/15\n",
      "28/28 [==============================] - 14s 489ms/step - loss: -28217229550.5636 - acc: 0.3856 - val_loss: -35909416374.8571 - val_acc: 0.3862\n",
      "Epoch 10/15\n",
      "28/28 [==============================] - 14s 508ms/step - loss: -57693206089.7040 - acc: 0.3867 - val_loss: -69322914084.5714 - val_acc: 0.3862\n",
      "Epoch 11/15\n",
      "28/28 [==============================] - 10s 352ms/step - loss: -103199059529.1429 - acc: 0.3803 - val_loss: -122056991890.2857 - val_acc: 0.3862\n",
      "Epoch 12/15\n",
      "28/28 [==============================] - 9s 330ms/step - loss: -189404536823.9195 - acc: 0.3850 - val_loss: -205404012544.0000 - val_acc: 0.3862\n",
      "Epoch 13/15\n",
      "28/28 [==============================] - 9s 312ms/step - loss: -266197786426.1807 - acc: 0.3954 - val_loss: -319641756818.2857 - val_acc: 0.3862\n",
      "Epoch 14/15\n",
      "28/28 [==============================] - 9s 316ms/step - loss: -446689933019.4285 - acc: 0.3797 - val_loss: -485153046528.0000 - val_acc: 0.3862\n",
      "Epoch 15/15\n",
      "28/28 [==============================] - 9s 330ms/step - loss: -680673172941.8022 - acc: 0.3839 - val_loss: -720809866971.4286 - val_acc: 0.3862\n"
     ]
    }
   ],
   "source": [
    "history = model.fit_generator(\n",
    "    train_data_gen,\n",
    "    steps_per_epoch=total_train // batch_size,\n",
    "    epochs=epochs,\n",
    "    validation_data=val_data_gen,\n",
    "    validation_steps=total_val // batch_size\n",
    ")"
   ]
  },
  {
   "cell_type": "code",
   "execution_count": 13,
   "metadata": {},
   "outputs": [
    {
     "name": "stderr",
     "output_type": "stream",
     "text": [
      "No handles with labels found to put in legend.\n"
     ]
    },
    {
     "data": {
      "image/png": "[encoded data removed]",
      "text/plain": [
       "<Figure size 576x576 with 2 Axes>"
      ]
     },
     "metadata": {
      "needs_background": "light"
     },
     "output_type": "display_data"
    }
   ],
   "source": [
    "\n",
    "loss = history.history['loss']\n",
    "val_loss = history.history['val_loss']\n",
    "\n",
    "epochs_range = range(epochs)\n",
    "\n",
    "plt.figure(figsize=(8, 8))\n",
    "plt.subplot(1, 2, 1)\n",
    "\n",
    "plt.legend(loc='lower right')\n",
    "plt.title('Training and Validation Accuracy')\n",
    "\n",
    "plt.subplot(1, 2, 2)\n",
    "plt.plot(epochs_range, loss, label='Training Loss')\n",
    "plt.plot(epochs_range, val_loss, label='Validation Loss')\n",
    "plt.legend(loc='upper right')\n",
    "plt.title('Training and Validation Loss')\n",
    "plt.show()"
   ]
  },
  {
   "cell_type": "code",
   "execution_count": null,
   "metadata": {},
   "outputs": [],
   "source": []
  }
 ],
 "metadata": {
  "kernelspec": {
   "display_name": "tensorflow-gpu",
   "language": "python",
   "name": "tensorflow-gpu"
  },
  "language_info": {
   "codemirror_mode": {
    "name": "ipython",
    "version": 3
   },
   "file_extension": ".py",
   "mimetype": "text/x-python",
   "name": "python",
   "nbconvert_exporter": "python",
   "pygments_lexer": "ipython3",
   "version": "3.7.4"
  }
 },
 "nbformat": 4,
 "nbformat_minor": 2
}
